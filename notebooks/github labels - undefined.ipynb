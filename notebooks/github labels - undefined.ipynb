{
 "cells": [
  {
   "cell_type": "code",
   "execution_count": 1,
   "id": "4d56b384",
   "metadata": {},
   "outputs": [],
   "source": [
    "import pandas as pd\n",
    "import numpy as np\n",
    "from matplotlib import pyplot as plt\n",
    "from datetime import datetime"
   ]
  },
  {
   "cell_type": "code",
   "execution_count": 2,
   "id": "917ab172",
   "metadata": {},
   "outputs": [],
   "source": [
    "import tools"
   ]
  },
  {
   "cell_type": "code",
   "execution_count": 3,
   "id": "c2cd8387",
   "metadata": {},
   "outputs": [],
   "source": [
    "data = pd.read_json('data/flink/pr-flat_20220602-13h35m41s_apache_flink_master_prs-brief.txt', lines=True)"
   ]
  },
  {
   "cell_type": "code",
   "execution_count": 4,
   "id": "12110d0a",
   "metadata": {},
   "outputs": [],
   "source": [
    "data = tools.create_label_dataset(data)\n",
    "tools.initialize_datetime(data)\n",
    "data['lifetime'] = tools.add_lifetime_column(data)\n",
    "data = data.set_index('createdAt')"
   ]
  },
  {
   "cell_type": "code",
   "execution_count": 5,
   "id": "ad6e3fc3",
   "metadata": {},
   "outputs": [
    {
     "data": {
      "text/html": [
       "<div>\n",
       "<style scoped>\n",
       "    .dataframe tbody tr th:only-of-type {\n",
       "        vertical-align: middle;\n",
       "    }\n",
       "\n",
       "    .dataframe tbody tr th {\n",
       "        vertical-align: top;\n",
       "    }\n",
       "\n",
       "    .dataframe thead th {\n",
       "        text-align: right;\n",
       "    }\n",
       "</style>\n",
       "<table border=\"1\" class=\"dataframe\">\n",
       "  <thead>\n",
       "    <tr style=\"text-align: right;\">\n",
       "      <th></th>\n",
       "      <th>name</th>\n",
       "      <th>number</th>\n",
       "      <th>lifetime</th>\n",
       "      <th>_count</th>\n",
       "    </tr>\n",
       "    <tr>\n",
       "      <th>createdAt</th>\n",
       "      <th></th>\n",
       "      <th></th>\n",
       "      <th></th>\n",
       "      <th></th>\n",
       "    </tr>\n",
       "  </thead>\n",
       "  <tbody>\n",
       "    <tr>\n",
       "      <th>2014-06-10 16:51:08+00:00</th>\n",
       "      <td>component=Deployment/YARN</td>\n",
       "      <td>1</td>\n",
       "      <td>0 days 02:51:06</td>\n",
       "      <td>1</td>\n",
       "    </tr>\n",
       "    <tr>\n",
       "      <th>2014-06-10 22:31:31+00:00</th>\n",
       "      <td>component=Runtime/Network</td>\n",
       "      <td>5</td>\n",
       "      <td>6 days 23:47:47</td>\n",
       "      <td>1</td>\n",
       "    </tr>\n",
       "    <tr>\n",
       "      <th>2014-06-11 10:16:58+00:00</th>\n",
       "      <td>component=&lt;none&gt;</td>\n",
       "      <td>6</td>\n",
       "      <td>6 days 12:02:20</td>\n",
       "      <td>1</td>\n",
       "    </tr>\n",
       "    <tr>\n",
       "      <th>2014-06-12 09:00:26+00:00</th>\n",
       "      <td>component=&lt;none&gt;</td>\n",
       "      <td>8</td>\n",
       "      <td>1 days 06:37:45</td>\n",
       "      <td>1</td>\n",
       "    </tr>\n",
       "    <tr>\n",
       "      <th>2014-06-12 14:23:29+00:00</th>\n",
       "      <td>component=&lt;none&gt;</td>\n",
       "      <td>11</td>\n",
       "      <td>0 days 07:03:46</td>\n",
       "      <td>1</td>\n",
       "    </tr>\n",
       "    <tr>\n",
       "      <th>...</th>\n",
       "      <td>...</td>\n",
       "      <td>...</td>\n",
       "      <td>...</td>\n",
       "      <td>...</td>\n",
       "    </tr>\n",
       "    <tr>\n",
       "      <th>2022-06-01 08:12:33+00:00</th>\n",
       "      <td>component=TableSQL/Planner</td>\n",
       "      <td>19860</td>\n",
       "      <td>NaT</td>\n",
       "      <td>1</td>\n",
       "    </tr>\n",
       "    <tr>\n",
       "      <th>2022-06-01 10:34:44+00:00</th>\n",
       "      <td>component=Deployment/YARN</td>\n",
       "      <td>19863</td>\n",
       "      <td>NaT</td>\n",
       "      <td>1</td>\n",
       "    </tr>\n",
       "    <tr>\n",
       "      <th>2022-06-01 12:47:53+00:00</th>\n",
       "      <td>component=Runtime/Checkpointing</td>\n",
       "      <td>19864</td>\n",
       "      <td>NaT</td>\n",
       "      <td>1</td>\n",
       "    </tr>\n",
       "    <tr>\n",
       "      <th>2022-06-02 02:51:27+00:00</th>\n",
       "      <td>component=TableSQL/Planner</td>\n",
       "      <td>19866</td>\n",
       "      <td>NaT</td>\n",
       "      <td>1</td>\n",
       "    </tr>\n",
       "    <tr>\n",
       "      <th>2022-06-02 10:06:36+00:00</th>\n",
       "      <td>component=TableSQL/API</td>\n",
       "      <td>19868</td>\n",
       "      <td>NaT</td>\n",
       "      <td>1</td>\n",
       "    </tr>\n",
       "  </tbody>\n",
       "</table>\n",
       "<p>27913 rows × 4 columns</p>\n",
       "</div>"
      ],
      "text/plain": [
       "                                                      name  number  \\\n",
       "createdAt                                                            \n",
       "2014-06-10 16:51:08+00:00        component=Deployment/YARN       1   \n",
       "2014-06-10 22:31:31+00:00        component=Runtime/Network       5   \n",
       "2014-06-11 10:16:58+00:00                 component=<none>       6   \n",
       "2014-06-12 09:00:26+00:00                 component=<none>       8   \n",
       "2014-06-12 14:23:29+00:00                 component=<none>      11   \n",
       "...                                                    ...     ...   \n",
       "2022-06-01 08:12:33+00:00       component=TableSQL/Planner   19860   \n",
       "2022-06-01 10:34:44+00:00        component=Deployment/YARN   19863   \n",
       "2022-06-01 12:47:53+00:00  component=Runtime/Checkpointing   19864   \n",
       "2022-06-02 02:51:27+00:00       component=TableSQL/Planner   19866   \n",
       "2022-06-02 10:06:36+00:00           component=TableSQL/API   19868   \n",
       "\n",
       "                                 lifetime  _count  \n",
       "createdAt                                          \n",
       "2014-06-10 16:51:08+00:00 0 days 02:51:06       1  \n",
       "2014-06-10 22:31:31+00:00 6 days 23:47:47       1  \n",
       "2014-06-11 10:16:58+00:00 6 days 12:02:20       1  \n",
       "2014-06-12 09:00:26+00:00 1 days 06:37:45       1  \n",
       "2014-06-12 14:23:29+00:00 0 days 07:03:46       1  \n",
       "...                                   ...     ...  \n",
       "2022-06-01 08:12:33+00:00             NaT       1  \n",
       "2022-06-01 10:34:44+00:00             NaT       1  \n",
       "2022-06-01 12:47:53+00:00             NaT       1  \n",
       "2022-06-02 02:51:27+00:00             NaT       1  \n",
       "2022-06-02 10:06:36+00:00             NaT       1  \n",
       "\n",
       "[27913 rows x 4 columns]"
      ]
     },
     "execution_count": 5,
     "metadata": {},
     "output_type": "execute_result"
    }
   ],
   "source": [
    "data['_count'] = 1\n",
    "data = data[['name', 'number', 'lifetime', '_count']]\n",
    "data"
   ]
  },
  {
   "cell_type": "code",
   "execution_count": 6,
   "id": "54b7143c",
   "metadata": {},
   "outputs": [
    {
     "name": "stdout",
     "output_type": "stream",
     "text": [
      "post-ui-rework\n",
      "review=description?\n",
      "review=consensus?\n",
      "review=approved ✅\n",
      "review=architecture?\n",
      "review=quality?\n",
      "dependencies\n",
      "ruby\n",
      "java\n",
      "post-1.10-scheduler-feedback\n",
      "javascript\n"
     ]
    }
   ],
   "source": [
    "for el in data['name'].unique():\n",
    "    if not el.startswith('component='):\n",
    "        print(el)"
   ]
  },
  {
   "cell_type": "code",
   "execution_count": 7,
   "id": "818aaf21",
   "metadata": {},
   "outputs": [],
   "source": [
    "key_none = '<none>'  # A component name used by the api\n",
    "key_undefined = '<undefined>'  # introduced by us\n",
    "data['component'] = key_undefined\n",
    "data['other'] = key_undefined\n",
    "data.loc[~data['name'].str.startswith('component='), 'other'] = data.loc[~data['name'].str.startswith('component='), 'name'] \n",
    "data.loc[data['name'].str.startswith('component='), 'component'] = data.loc[data['name'].str.startswith('component='), 'name'].str.replace('component=', '') "
   ]
  },
  {
   "cell_type": "code",
   "execution_count": 8,
   "id": "f703f484",
   "metadata": {},
   "outputs": [
    {
     "ename": "TypeError",
     "evalue": "savefig() missing 1 required positional argument: 'fname'",
     "output_type": "error",
     "traceback": [
      "\u001b[0;31m---------------------------------------------------------------------------\u001b[0m",
      "\u001b[0;31mTypeError\u001b[0m                                 Traceback (most recent call last)",
      "\u001b[0;32m/var/folders/m2/_1_4fj9d5554nslmpq2n_bq00000gn/T/ipykernel_20348/250940886.py\u001b[0m in \u001b[0;36m<module>\u001b[0;34m\u001b[0m\n\u001b[1;32m      7\u001b[0m \u001b[0max\u001b[0m\u001b[0;34m.\u001b[0m\u001b[0mset\u001b[0m\u001b[0;34m(\u001b[0m\u001b[0mxlabel\u001b[0m\u001b[0;34m=\u001b[0m\u001b[0;34m'created time'\u001b[0m\u001b[0;34m,\u001b[0m \u001b[0mylabel\u001b[0m\u001b[0;34m=\u001b[0m\u001b[0;34m'count'\u001b[0m\u001b[0;34m)\u001b[0m\u001b[0;34m\u001b[0m\u001b[0;34m\u001b[0m\u001b[0m\n\u001b[1;32m      8\u001b[0m \u001b[0max\u001b[0m\u001b[0;34m.\u001b[0m\u001b[0mgrid\u001b[0m\u001b[0;34m(\u001b[0m\u001b[0;34m)\u001b[0m\u001b[0;34m\u001b[0m\u001b[0;34m\u001b[0m\u001b[0m\n\u001b[0;32m----> 9\u001b[0;31m \u001b[0mtools\u001b[0m\u001b[0;34m.\u001b[0m\u001b[0msavefig\u001b[0m\u001b[0;34m(\u001b[0m\u001b[0;34m'prs_undefined_none_labels'\u001b[0m\u001b[0;34m)\u001b[0m\u001b[0;34m\u001b[0m\u001b[0;34m\u001b[0m\u001b[0m\n\u001b[0m",
      "\u001b[0;31mTypeError\u001b[0m: savefig() missing 1 required positional argument: 'fname'"
     ]
    },
    {
     "data": {
      "image/png": "[encoded data removed]",
      "text/plain": [
       "<Figure size 720x720 with 1 Axes>"
      ]
     },
     "metadata": {
      "needs_background": "light"
     },
     "output_type": "display_data"
    }
   ],
   "source": [
    "undefined_components = ['<undefined>', '<none>']\n",
    "f, ax = plt.subplots(figsize=(10, 10))\n",
    "for component in undefined_components:\n",
    "    data.loc[data['component'] == component, '_count'].cumsum().plot(ax=ax, label=component, lw=2)\n",
    "ax.legend()\n",
    "f.suptitle('Total PRs per component')\n",
    "ax.set(xlabel='created time', ylabel='count')\n",
    "ax.grid()\n",
    "tools.savefig('prs_undefined_none_labels')"
   ]
  },
  {
   "cell_type": "code",
   "execution_count": null,
   "id": "175e0722",
   "metadata": {},
   "outputs": [],
   "source": [
    "data.loc[data['component'] != '<undefined>'].groupby(pd.Grouper(freq='Y'))['component'].apply(lambda x: x.value_counts().head(5))"
   ]
  }
 ],
 "metadata": {
  "kernelspec": {
   "display_name": "Python 3 (ipykernel)",
   "language": "python",
   "name": "python3"
  },
  "language_info": {
   "codemirror_mode": {
    "name": "ipython",
    "version": 3
   },
   "file_extension": ".py",
   "mimetype": "text/x-python",
   "name": "python",
   "nbconvert_exporter": "python",
   "pygments_lexer": "ipython3",
   "version": "3.9.7"
  }
 },
 "nbformat": 4,
 "nbformat_minor": 5
}
