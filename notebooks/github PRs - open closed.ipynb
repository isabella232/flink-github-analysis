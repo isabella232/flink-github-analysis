{
 "cells": [
  {
   "cell_type": "code",
   "execution_count": 1,
   "id": "d9ae9bf0",
   "metadata": {},
   "outputs": [],
   "source": [
    "import pandas as pd\n",
    "from matplotlib import pyplot as plt\n",
    "from matplotlib import ticker\n",
    "import numpy as np"
   ]
  },
  {
   "cell_type": "code",
   "execution_count": 2,
   "id": "432e9e1e",
   "metadata": {},
   "outputs": [],
   "source": [
    "import tools"
   ]
  },
  {
   "cell_type": "code",
   "execution_count": 3,
   "id": "505fee10",
   "metadata": {},
   "outputs": [],
   "source": [
    "data = pd.read_json(\"data/flink/pr-flat_20220602-13h35m41s_apache_flink_master_prs-brief.txt\", lines=True)"
   ]
  },
  {
   "cell_type": "code",
   "execution_count": 4,
   "id": "2586c189",
   "metadata": {},
   "outputs": [],
   "source": [
    "n = data.shape[0]\n",
    "max_pr = data['number'].max()"
   ]
  },
  {
   "cell_type": "code",
   "execution_count": 5,
   "id": "3e2a01f8",
   "metadata": {},
   "outputs": [],
   "source": [
    "tools.initialize_datetime(data)"
   ]
  },
  {
   "cell_type": "code",
   "execution_count": 6,
   "id": "0a365d17",
   "metadata": {},
   "outputs": [],
   "source": [
    "data = data.set_index('createdAt')\n",
    "data['createdAt'] = data.index"
   ]
  },
  {
   "cell_type": "code",
   "execution_count": 7,
   "id": "931ea2fd",
   "metadata": {},
   "outputs": [],
   "source": [
    "data['_count'] = 1\n",
    "data['totalCount'] = data['_count'].cumsum()"
   ]
  },
  {
   "cell_type": "code",
   "execution_count": 8,
   "id": "24dcb483",
   "metadata": {},
   "outputs": [
    {
     "data": {
      "text/html": [
       "<div>\n",
       "<style scoped>\n",
       "    .dataframe tbody tr th:only-of-type {\n",
       "        vertical-align: middle;\n",
       "    }\n",
       "\n",
       "    .dataframe tbody tr th {\n",
       "        vertical-align: top;\n",
       "    }\n",
       "\n",
       "    .dataframe thead th {\n",
       "        text-align: right;\n",
       "    }\n",
       "</style>\n",
       "<table border=\"1\" class=\"dataframe\">\n",
       "  <thead>\n",
       "    <tr style=\"text-align: right;\">\n",
       "      <th></th>\n",
       "      <th>title</th>\n",
       "      <th>state</th>\n",
       "      <th>number</th>\n",
       "      <th>mergedAt</th>\n",
       "      <th>closedAt</th>\n",
       "      <th>labels</th>\n",
       "      <th>authorLogin</th>\n",
       "      <th>firstCommentCreatedAt</th>\n",
       "      <th>firstCommentPublishedAt</th>\n",
       "      <th>firstCommentAuthorLogin</th>\n",
       "      <th>firstReviewThreadCreatedAt</th>\n",
       "      <th>firstReviewThreadPublishedAt</th>\n",
       "      <th>firstReviewThreadAuthorLogin</th>\n",
       "      <th>firstReviewCreatedAt</th>\n",
       "      <th>firstReviewPublishedAt</th>\n",
       "      <th>firstReviewAuthorLogin</th>\n",
       "      <th>createdAt</th>\n",
       "      <th>_count</th>\n",
       "      <th>totalCount</th>\n",
       "    </tr>\n",
       "    <tr>\n",
       "      <th>createdAt</th>\n",
       "      <th></th>\n",
       "      <th></th>\n",
       "      <th></th>\n",
       "      <th></th>\n",
       "      <th></th>\n",
       "      <th></th>\n",
       "      <th></th>\n",
       "      <th></th>\n",
       "      <th></th>\n",
       "      <th></th>\n",
       "      <th></th>\n",
       "      <th></th>\n",
       "      <th></th>\n",
       "      <th></th>\n",
       "      <th></th>\n",
       "      <th></th>\n",
       "      <th></th>\n",
       "      <th></th>\n",
       "      <th></th>\n",
       "    </tr>\n",
       "  </thead>\n",
       "  <tbody>\n",
       "    <tr>\n",
       "      <th>2014-06-10 16:51:08+00:00</th>\n",
       "      <td>Fix for FLINK-708 and FLINK-887</td>\n",
       "      <td>CLOSED</td>\n",
       "      <td>1</td>\n",
       "      <td>NaT</td>\n",
       "      <td>2014-06-10 19:42:14+00:00</td>\n",
       "      <td>[component=Deployment/YARN]</td>\n",
       "      <td>rmetzger</td>\n",
       "      <td>2014-06-10 16:51:46+00:00</td>\n",
       "      <td>2014-06-10 16:51:46+00:00</td>\n",
       "      <td>rmetzger</td>\n",
       "      <td>NaT</td>\n",
       "      <td>NaT</td>\n",
       "      <td>None</td>\n",
       "      <td>NaT</td>\n",
       "      <td>NaT</td>\n",
       "      <td>None</td>\n",
       "      <td>2014-06-10 16:51:08+00:00</td>\n",
       "      <td>1</td>\n",
       "      <td>1</td>\n",
       "    </tr>\n",
       "    <tr>\n",
       "      <th>2014-06-10 19:03:03+00:00</th>\n",
       "      <td>ForwardFields Optimizer integration</td>\n",
       "      <td>CLOSED</td>\n",
       "      <td>2</td>\n",
       "      <td>NaT</td>\n",
       "      <td>2014-07-29 13:47:17+00:00</td>\n",
       "      <td>[]</td>\n",
       "      <td>skunert</td>\n",
       "      <td>2014-06-23 12:04:17+00:00</td>\n",
       "      <td>2014-06-23 12:04:17+00:00</td>\n",
       "      <td>skunert</td>\n",
       "      <td>2014-06-10 19:15:40+00:00</td>\n",
       "      <td>2014-06-10 19:15:40+00:00</td>\n",
       "      <td>rmetzger</td>\n",
       "      <td>NaT</td>\n",
       "      <td>NaT</td>\n",
       "      <td>None</td>\n",
       "      <td>2014-06-10 19:03:03+00:00</td>\n",
       "      <td>1</td>\n",
       "      <td>2</td>\n",
       "    </tr>\n",
       "    <tr>\n",
       "      <th>2014-06-10 19:22:44+00:00</th>\n",
       "      <td>DistCache: executable flag, dir support</td>\n",
       "      <td>CLOSED</td>\n",
       "      <td>3</td>\n",
       "      <td>NaT</td>\n",
       "      <td>2014-06-13 15:56:08+00:00</td>\n",
       "      <td>[]</td>\n",
       "      <td>zentol</td>\n",
       "      <td>2014-06-13 10:52:21+00:00</td>\n",
       "      <td>2014-06-13 10:52:21+00:00</td>\n",
       "      <td>StephanEwen</td>\n",
       "      <td>2014-06-10 20:28:38+00:00</td>\n",
       "      <td>2014-06-10 20:28:38+00:00</td>\n",
       "      <td>rmetzger</td>\n",
       "      <td>NaT</td>\n",
       "      <td>NaT</td>\n",
       "      <td>None</td>\n",
       "      <td>2014-06-10 19:22:44+00:00</td>\n",
       "      <td>1</td>\n",
       "      <td>3</td>\n",
       "    </tr>\n",
       "    <tr>\n",
       "      <th>2014-06-10 19:29:20+00:00</th>\n",
       "      <td>Serialized String comparison, Unicode support</td>\n",
       "      <td>CLOSED</td>\n",
       "      <td>4</td>\n",
       "      <td>NaT</td>\n",
       "      <td>2015-08-27 12:05:32+00:00</td>\n",
       "      <td>[]</td>\n",
       "      <td>zentol</td>\n",
       "      <td>2014-06-12 08:16:26+00:00</td>\n",
       "      <td>2014-06-12 08:16:26+00:00</td>\n",
       "      <td>zentol</td>\n",
       "      <td>NaT</td>\n",
       "      <td>NaT</td>\n",
       "      <td>None</td>\n",
       "      <td>NaT</td>\n",
       "      <td>NaT</td>\n",
       "      <td>None</td>\n",
       "      <td>2014-06-10 19:29:20+00:00</td>\n",
       "      <td>1</td>\n",
       "      <td>4</td>\n",
       "    </tr>\n",
       "    <tr>\n",
       "      <th>2014-06-10 22:31:31+00:00</th>\n",
       "      <td>[FLINK-917] Rename netty IO thread count param...</td>\n",
       "      <td>CLOSED</td>\n",
       "      <td>5</td>\n",
       "      <td>NaT</td>\n",
       "      <td>2014-06-17 22:19:18+00:00</td>\n",
       "      <td>[component=Runtime/Network]</td>\n",
       "      <td>uce</td>\n",
       "      <td>2014-06-12 13:41:42+00:00</td>\n",
       "      <td>2014-06-12 13:41:42+00:00</td>\n",
       "      <td>StephanEwen</td>\n",
       "      <td>NaT</td>\n",
       "      <td>NaT</td>\n",
       "      <td>None</td>\n",
       "      <td>NaT</td>\n",
       "      <td>NaT</td>\n",
       "      <td>None</td>\n",
       "      <td>2014-06-10 22:31:31+00:00</td>\n",
       "      <td>1</td>\n",
       "      <td>5</td>\n",
       "    </tr>\n",
       "  </tbody>\n",
       "</table>\n",
       "</div>"
      ],
      "text/plain": [
       "                                                                       title  \\\n",
       "createdAt                                                                      \n",
       "2014-06-10 16:51:08+00:00                   Fix for FLINK-708 and FLINK-887    \n",
       "2014-06-10 19:03:03+00:00                ForwardFields Optimizer integration   \n",
       "2014-06-10 19:22:44+00:00            DistCache: executable flag, dir support   \n",
       "2014-06-10 19:29:20+00:00      Serialized String comparison, Unicode support   \n",
       "2014-06-10 22:31:31+00:00  [FLINK-917] Rename netty IO thread count param...   \n",
       "\n",
       "                            state  number mergedAt                  closedAt  \\\n",
       "createdAt                                                                      \n",
       "2014-06-10 16:51:08+00:00  CLOSED       1      NaT 2014-06-10 19:42:14+00:00   \n",
       "2014-06-10 19:03:03+00:00  CLOSED       2      NaT 2014-07-29 13:47:17+00:00   \n",
       "2014-06-10 19:22:44+00:00  CLOSED       3      NaT 2014-06-13 15:56:08+00:00   \n",
       "2014-06-10 19:29:20+00:00  CLOSED       4      NaT 2015-08-27 12:05:32+00:00   \n",
       "2014-06-10 22:31:31+00:00  CLOSED       5      NaT 2014-06-17 22:19:18+00:00   \n",
       "\n",
       "                                                labels authorLogin  \\\n",
       "createdAt                                                            \n",
       "2014-06-10 16:51:08+00:00  [component=Deployment/YARN]    rmetzger   \n",
       "2014-06-10 19:03:03+00:00                           []     skunert   \n",
       "2014-06-10 19:22:44+00:00                           []      zentol   \n",
       "2014-06-10 19:29:20+00:00                           []      zentol   \n",
       "2014-06-10 22:31:31+00:00  [component=Runtime/Network]         uce   \n",
       "\n",
       "                              firstCommentCreatedAt   firstCommentPublishedAt  \\\n",
       "createdAt                                                                       \n",
       "2014-06-10 16:51:08+00:00 2014-06-10 16:51:46+00:00 2014-06-10 16:51:46+00:00   \n",
       "2014-06-10 19:03:03+00:00 2014-06-23 12:04:17+00:00 2014-06-23 12:04:17+00:00   \n",
       "2014-06-10 19:22:44+00:00 2014-06-13 10:52:21+00:00 2014-06-13 10:52:21+00:00   \n",
       "2014-06-10 19:29:20+00:00 2014-06-12 08:16:26+00:00 2014-06-12 08:16:26+00:00   \n",
       "2014-06-10 22:31:31+00:00 2014-06-12 13:41:42+00:00 2014-06-12 13:41:42+00:00   \n",
       "\n",
       "                          firstCommentAuthorLogin firstReviewThreadCreatedAt  \\\n",
       "createdAt                                                                      \n",
       "2014-06-10 16:51:08+00:00                rmetzger                        NaT   \n",
       "2014-06-10 19:03:03+00:00                 skunert  2014-06-10 19:15:40+00:00   \n",
       "2014-06-10 19:22:44+00:00             StephanEwen  2014-06-10 20:28:38+00:00   \n",
       "2014-06-10 19:29:20+00:00                  zentol                        NaT   \n",
       "2014-06-10 22:31:31+00:00             StephanEwen                        NaT   \n",
       "\n",
       "                          firstReviewThreadPublishedAt  \\\n",
       "createdAt                                                \n",
       "2014-06-10 16:51:08+00:00                          NaT   \n",
       "2014-06-10 19:03:03+00:00    2014-06-10 19:15:40+00:00   \n",
       "2014-06-10 19:22:44+00:00    2014-06-10 20:28:38+00:00   \n",
       "2014-06-10 19:29:20+00:00                          NaT   \n",
       "2014-06-10 22:31:31+00:00                          NaT   \n",
       "\n",
       "                          firstReviewThreadAuthorLogin firstReviewCreatedAt  \\\n",
       "createdAt                                                                     \n",
       "2014-06-10 16:51:08+00:00                         None                  NaT   \n",
       "2014-06-10 19:03:03+00:00                     rmetzger                  NaT   \n",
       "2014-06-10 19:22:44+00:00                     rmetzger                  NaT   \n",
       "2014-06-10 19:29:20+00:00                         None                  NaT   \n",
       "2014-06-10 22:31:31+00:00                         None                  NaT   \n",
       "\n",
       "                          firstReviewPublishedAt firstReviewAuthorLogin  \\\n",
       "createdAt                                                                 \n",
       "2014-06-10 16:51:08+00:00                    NaT                   None   \n",
       "2014-06-10 19:03:03+00:00                    NaT                   None   \n",
       "2014-06-10 19:22:44+00:00                    NaT                   None   \n",
       "2014-06-10 19:29:20+00:00                    NaT                   None   \n",
       "2014-06-10 22:31:31+00:00                    NaT                   None   \n",
       "\n",
       "                                          createdAt  _count  totalCount  \n",
       "createdAt                                                                \n",
       "2014-06-10 16:51:08+00:00 2014-06-10 16:51:08+00:00       1           1  \n",
       "2014-06-10 19:03:03+00:00 2014-06-10 19:03:03+00:00       1           2  \n",
       "2014-06-10 19:22:44+00:00 2014-06-10 19:22:44+00:00       1           3  \n",
       "2014-06-10 19:29:20+00:00 2014-06-10 19:29:20+00:00       1           4  \n",
       "2014-06-10 22:31:31+00:00 2014-06-10 22:31:31+00:00       1           5  "
      ]
     },
     "execution_count": 8,
     "metadata": {},
     "output_type": "execute_result"
    }
   ],
   "source": [
    "data.head()"
   ]
  },
  {
   "cell_type": "markdown",
   "id": "c1c169a7",
   "metadata": {},
   "source": [
    "## PR labels"
   ]
  },
  {
   "cell_type": "code",
   "execution_count": 9,
   "id": "9242b210",
   "metadata": {},
   "outputs": [],
   "source": [
    "title_includes_id = data['title'].str.startswith('[FLINK-')"
   ]
  },
  {
   "cell_type": "code",
   "execution_count": 10,
   "id": "270d8596",
   "metadata": {},
   "outputs": [],
   "source": [
    "title_contains_hotfix = data['title'].str.contains('hotfix') "
   ]
  },
  {
   "cell_type": "code",
   "execution_count": 11,
   "id": "05ed1bb0",
   "metadata": {},
   "outputs": [],
   "source": [
    "perc_title_includes_id = data.loc[title_includes_id].shape[0]/n * 100"
   ]
  },
  {
   "cell_type": "code",
   "execution_count": 12,
   "id": "53dff740",
   "metadata": {},
   "outputs": [],
   "source": [
    "perc_title_is_hotfix = data.loc[title_contains_hotfix & ~title_includes_id].shape[0]/n * 100"
   ]
  },
  {
   "cell_type": "code",
   "execution_count": 13,
   "id": "23a4c5f3",
   "metadata": {},
   "outputs": [
    {
     "name": "stdout",
     "output_type": "stream",
     "text": [
      "Title includes FLINK id:  85.54 %\n"
     ]
    }
   ],
   "source": [
    "print(f\"Title includes FLINK id: {perc_title_includes_id: 6.2f} %\")"
   ]
  },
  {
   "cell_type": "code",
   "execution_count": 14,
   "id": "b0a97533",
   "metadata": {},
   "outputs": [
    {
     "name": "stdout",
     "output_type": "stream",
     "text": [
      "Title includes hotfix:   6.49 %\n"
     ]
    }
   ],
   "source": [
    "print(f\"Title includes hotfix: {perc_title_is_hotfix: 6.2f} %\")"
   ]
  },
  {
   "cell_type": "markdown",
   "id": "10f13125",
   "metadata": {},
   "source": [
    "## Open PRs"
   ]
  },
  {
   "cell_type": "code",
   "execution_count": 15,
   "id": "c3f4a3be",
   "metadata": {},
   "outputs": [
    {
     "name": "stdout",
     "output_type": "stream",
     "text": [
      "836 PRs are open.\n"
     ]
    }
   ],
   "source": [
    "open_prs = data.loc[data['state'] == 'OPEN', '_count'].count()\n",
    "print(f\"{open_prs} PRs are open.\")"
   ]
  },
  {
   "cell_type": "code",
   "execution_count": 16,
   "id": "f4208265",
   "metadata": {},
   "outputs": [
    {
     "data": {
      "image/png": "[encoded data removed]",
      "text/plain": [
       "<Figure size 432x288 with 1 Axes>"
      ]
     },
     "metadata": {
      "needs_background": "light"
     },
     "output_type": "display_data"
    }
   ],
   "source": [
    "def plot_line(ser: pd.Series, ax):\n",
    "    pd.Series([ser.min(), ser.max()], index=[ser.index.min(), ser.index.max()]).plot(ax=ax, ls=\"--\", alpha=0.8)\n",
    "\n",
    "f, ax = plt.subplots()\n",
    "total_open_prs_over_time = data.loc[data['state'] == 'OPEN', '_count'].cumsum()\n",
    "total_open_prs_over_time.plot(ax=ax)\n",
    "plot_line(total_open_prs_over_time, ax)\n",
    "f.suptitle(\"total number of open PRs\")\n",
    "ax.set(xlabel='date', ylabel='count')\n",
    "ax.grid()\n",
    "tools.savefig(f, 'prs_total_number_of_open_prs')"
   ]
  },
  {
   "cell_type": "markdown",
   "id": "1c9b150b",
   "metadata": {},
   "source": [
    "In the figure below, we can see that the number of open PRs growed continuously over the past years, but is exploding since the beginning of 2021. Each of these reflect a piece of work by a potential contributor.\n",
    "\n",
    "The number of open PRs has doubled between 2020 and 2021 and again between 2021 and 2022."
   ]
  },
  {
   "cell_type": "code",
   "execution_count": 17,
   "id": "2d54a277",
   "metadata": {},
   "outputs": [
    {
     "data": {
      "image/png": "[encoded data removed]",
      "text/plain": [
       "<Figure size 432x288 with 1 Axes>"
      ]
     },
     "metadata": {
      "needs_background": "light"
     },
     "output_type": "display_data"
    }
   ],
   "source": [
    "f, ax = plt.subplots()\n",
    "total_closed_prs_over_time = data.loc[data['state'] != 'OPEN', '_count'].cumsum()\n",
    "total_closed_prs_over_time.plot(ax=ax)\n",
    "plot_line(total_closed_prs_over_time, ax)\n",
    "f.suptitle(\"total number of closed or merged PRs\")\n",
    "ax.set(xlabel='date', ylabel='count')\n",
    "ax.grid()\n",
    "tools.savefig(f, 'prs_total_number_of_closed_merged_prs')"
   ]
  },
  {
   "cell_type": "markdown",
   "id": "a5aac2a6",
   "metadata": {},
   "source": [
    "The number of open PRs rises exponentially, while the number of closed PRs rises almost linearly."
   ]
  },
  {
   "cell_type": "code",
   "execution_count": 18,
   "id": "69346ee6",
   "metadata": {},
   "outputs": [],
   "source": [
    "from datetime import datetime, timedelta, timezone\n",
    "\n",
    "now = datetime.now(tz=timezone.utc)\n",
    "open_prs_age = now - data.loc[data['state'] == 'OPEN', 'createdAt']\n",
    "open_prs_age = open_prs_age.sort_values().reset_index(drop=True)"
   ]
  },
  {
   "cell_type": "code",
   "execution_count": 19,
   "id": "00736142",
   "metadata": {},
   "outputs": [],
   "source": [
    "open_prs_age_in_days = open_prs_age.dt.days"
   ]
  },
  {
   "cell_type": "code",
   "execution_count": 20,
   "id": "f4af0a75",
   "metadata": {},
   "outputs": [],
   "source": [
    "open_one_week = open_prs_age_in_days.loc[open_prs_age_in_days > 7].count()/open_prs_age_in_days.size * 100\n",
    "open_one_month = open_prs_age_in_days.loc[open_prs_age_in_days > 30].count()/open_prs_age_in_days.size * 100\n",
    "open_quarter_year = open_prs_age_in_days.loc[open_prs_age_in_days > 365/4].count()/open_prs_age_in_days.size * 100\n",
    "open_half_year = open_prs_age_in_days.loc[open_prs_age_in_days > 365/2].count()/open_prs_age_in_days.size * 100\n",
    "open_one_year = open_prs_age_in_days.loc[open_prs_age_in_days > 365].count()/open_prs_age_in_days.size * 100"
   ]
  },
  {
   "cell_type": "code",
   "execution_count": 21,
   "id": "a07c2949",
   "metadata": {},
   "outputs": [
    {
     "name": "stdout",
     "output_type": "stream",
     "text": [
      "From the open PRs:\n",
      " 95.22 % are open more than one week\n",
      " 88.16 % are open more than one month\n",
      " 73.09 % are open more than three months\n",
      " 60.65 % are open more than six months\n",
      " 39.47 % are open more than one year\n"
     ]
    }
   ],
   "source": [
    "print('From the open PRs:')\n",
    "print(f'{open_one_week: 6.2f} % are open more than one week')\n",
    "print(f'{open_one_month: 6.2f} % are open more than one month')\n",
    "print(f'{open_quarter_year: 6.2f} % are open more than three months')\n",
    "print(f'{open_half_year: 6.2f} % are open more than six months')\n",
    "print(f'{open_one_year: 6.2f} % are open more than one year')"
   ]
  },
  {
   "cell_type": "code",
   "execution_count": 22,
   "id": "99a4d667",
   "metadata": {},
   "outputs": [
    {
     "name": "stdout",
     "output_type": "stream",
     "text": [
      "The median age of an open PR is 260 days 17:06:14.319857\n"
     ]
    }
   ],
   "source": [
    "print(f\"The median age of an open PR is {open_prs_age.median()}\")"
   ]
  },
  {
   "cell_type": "code",
   "execution_count": 23,
   "id": "48336fa6",
   "metadata": {},
   "outputs": [
    {
     "name": "stdout",
     "output_type": "stream",
     "text": [
      "The median / mean age of closed or merged PR is 4 days 02:05:06 / 35 days 22:22:37.619878295\n"
     ]
    }
   ],
   "source": [
    "not_open_prs = data.loc[data['state'] != 'OPEN']\n",
    "not_open_prs_age = pd.to_datetime(not_open_prs['closedAt']) - not_open_prs['createdAt']\n",
    "print(f\"The median / mean age of closed or merged PR is {not_open_prs_age.median()} / {not_open_prs_age.mean()}\")"
   ]
  },
  {
   "cell_type": "markdown",
   "id": "628cf499",
   "metadata": {},
   "source": [
    "Are PRs that are not addressed in a given time frame never addressed?"
   ]
  },
  {
   "cell_type": "markdown",
   "id": "cd614ac5",
   "metadata": {},
   "source": [
    "### Closed PRs per week"
   ]
  },
  {
   "cell_type": "code",
   "execution_count": 24,
   "id": "1aeac7f9",
   "metadata": {},
   "outputs": [],
   "source": [
    "closed_ser = data['closedAt'].dropna().copy().to_frame()"
   ]
  },
  {
   "cell_type": "code",
   "execution_count": 25,
   "id": "c96deece",
   "metadata": {},
   "outputs": [],
   "source": [
    "closed_ser['_count'] = 1\n",
    "closed_ser['closedAt'] = pd.to_datetime(closed_ser['closedAt'])"
   ]
  },
  {
   "cell_type": "code",
   "execution_count": 26,
   "id": "883023ac",
   "metadata": {},
   "outputs": [],
   "source": [
    "closed_ser = closed_ser.set_index('closedAt')"
   ]
  },
  {
   "cell_type": "code",
   "execution_count": 27,
   "id": "91dca0e7",
   "metadata": {},
   "outputs": [
    {
     "name": "stderr",
     "output_type": "stream",
     "text": [
      "/opt/homebrew/Caskroom/miniconda/base/envs/analysis/lib/python3.9/site-packages/pandas/plotting/_matplotlib/core.py:633: UserWarning: The handle <matplotlib.lines.Line2D object at 0x1057d47c0> has a label of '_count' which cannot be automatically added to the legend.\n",
      "  ax.legend(handles, labels, loc=\"best\", title=title)\n"
     ]
    },
    {
     "data": {
      "image/png": "[encoded data removed]",
      "text/plain": [
       "<Figure size 432x288 with 1 Axes>"
      ]
     },
     "metadata": {
      "needs_background": "light"
     },
     "output_type": "display_data"
    }
   ],
   "source": [
    "f, ax = plt.subplots()\n",
    "closed_ser.resample('M').sum().rolling(3).mean().plot(ax=ax)\n",
    "f.suptitle('Number of PRs closed per  month (averaged over 3 months)')\n",
    "ax.grid(which='both')\n",
    "ax.set(xlabel='PR creation date', ylabel='# closed PRs')\n",
    "tools.savefig(f, 'prs_number_of_prs_closed_per_month')"
   ]
  },
  {
   "cell_type": "markdown",
   "id": "ec9eab9e",
   "metadata": {},
   "source": [
    "### PR life time "
   ]
  },
  {
   "cell_type": "code",
   "execution_count": 28,
   "id": "31a80383",
   "metadata": {},
   "outputs": [],
   "source": [
    "closed_prs = data.query('state == \"CLOSED\"').copy()\n",
    "closed_prs['closedAt'] = pd.to_datetime(closed_prs['closedAt'])\n",
    "closed_prs['lifetime'] = closed_prs['closedAt'] - closed_prs['createdAt']"
   ]
  },
  {
   "cell_type": "code",
   "execution_count": 29,
   "id": "85f825f0",
   "metadata": {},
   "outputs": [
    {
     "data": {
      "image/png": "[encoded data removed]",
      "text/plain": [
       "<Figure size 432x288 with 1 Axes>"
      ]
     },
     "metadata": {
      "needs_background": "light"
     },
     "output_type": "display_data"
    }
   ],
   "source": [
    "f, ax = plt.subplots()\n",
    "(closed_prs['lifetime'].dt.total_seconds() / (24 * 3600)).resample('M').mean().rolling(3).mean().plot()\n",
    "f.suptitle(\"Monthly average life time for closed PRs (averaged of 3 months)\")\n",
    "ax.set(xlabel=\"creation date\", ylabel=\"life time in hours\")\n",
    "ax.grid(which='both')\n",
    "tools.savefig(f, 'prs_monthly_lifetime')"
   ]
  },
  {
   "cell_type": "markdown",
   "id": "dff35b74",
   "metadata": {},
   "source": [
    "What is the reason for this trend? Are we simply taking longer to review PRs? No, the time for PRs that are actually closed has been drastically reduced in recent years."
   ]
  },
  {
   "cell_type": "code",
   "execution_count": 30,
   "id": "6ea0a748",
   "metadata": {},
   "outputs": [
    {
     "data": {
      "text/plain": [
       "createdAt\n",
       "2014-06-10 00:00:00+00:00    100.287877\n",
       "2014-06-11 00:00:00+00:00      7.807616\n",
       "2014-06-12 00:00:00+00:00      2.566407\n",
       "2014-06-13 00:00:00+00:00      6.474606\n",
       "2014-06-14 00:00:00+00:00           NaN\n",
       "                                ...    \n",
       "2022-05-23 00:00:00+00:00      0.367905\n",
       "2022-05-24 00:00:00+00:00           NaN\n",
       "2022-05-25 00:00:00+00:00      0.661192\n",
       "2022-05-26 00:00:00+00:00           NaN\n",
       "2022-05-27 00:00:00+00:00      5.042523\n",
       "Freq: D, Name: lifetime, Length: 2909, dtype: float64"
      ]
     },
     "execution_count": 30,
     "metadata": {},
     "output_type": "execute_result"
    }
   ],
   "source": [
    "(closed_prs['lifetime'].dt.total_seconds() / (24 * 3600)).resample('D').mean()"
   ]
  }
 ],
 "metadata": {
  "kernelspec": {
   "display_name": "Python 3 (ipykernel)",
   "language": "python",
   "name": "python3"
  },
  "language_info": {
   "codemirror_mode": {
    "name": "ipython",
    "version": 3
   },
   "file_extension": ".py",
   "mimetype": "text/x-python",
   "name": "python",
   "nbconvert_exporter": "python",
   "pygments_lexer": "ipython3",
   "version": "3.9.7"
  }
 },
 "nbformat": 4,
 "nbformat_minor": 5
}
