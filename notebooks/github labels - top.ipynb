{
 "cells": [
  {
   "cell_type": "code",
   "execution_count": 1,
   "id": "4d56b384",
   "metadata": {},
   "outputs": [],
   "source": [
    "import pandas as pd\n",
    "import numpy as np\n",
    "from matplotlib import pyplot as plt\n",
    "from datetime import datetime"
   ]
  },
  {
   "cell_type": "code",
   "execution_count": 2,
   "id": "4e8416a9",
   "metadata": {},
   "outputs": [],
   "source": [
    "import tools"
   ]
  },
  {
   "cell_type": "code",
   "execution_count": 3,
   "id": "55575fb9",
   "metadata": {},
   "outputs": [],
   "source": [
    "data = pd.read_json('data/flink/pr-flat_20220602-13h35m41s_apache_flink_master_prs-brief.txt', lines=True)"
   ]
  },
  {
   "cell_type": "code",
   "execution_count": 4,
   "id": "3613f0af",
   "metadata": {},
   "outputs": [],
   "source": [
    "data = tools.create_label_dataset(data)\n",
    "tools.initialize_datetime(data)\n",
    "data['lifetime'] = tools.add_lifetime_column(data)\n",
    "data = data.set_index('createdAt')"
   ]
  },
  {
   "cell_type": "code",
   "execution_count": 5,
   "id": "39a0ebe5",
   "metadata": {},
   "outputs": [
    {
     "data": {
      "text/html": [
       "<div>\n",
       "<style scoped>\n",
       "    .dataframe tbody tr th:only-of-type {\n",
       "        vertical-align: middle;\n",
       "    }\n",
       "\n",
       "    .dataframe tbody tr th {\n",
       "        vertical-align: top;\n",
       "    }\n",
       "\n",
       "    .dataframe thead th {\n",
       "        text-align: right;\n",
       "    }\n",
       "</style>\n",
       "<table border=\"1\" class=\"dataframe\">\n",
       "  <thead>\n",
       "    <tr style=\"text-align: right;\">\n",
       "      <th></th>\n",
       "      <th>name</th>\n",
       "      <th>number</th>\n",
       "      <th>lifetime</th>\n",
       "      <th>_count</th>\n",
       "    </tr>\n",
       "    <tr>\n",
       "      <th>createdAt</th>\n",
       "      <th></th>\n",
       "      <th></th>\n",
       "      <th></th>\n",
       "      <th></th>\n",
       "    </tr>\n",
       "  </thead>\n",
       "  <tbody>\n",
       "    <tr>\n",
       "      <th>2014-06-10 16:51:08+00:00</th>\n",
       "      <td>component=Deployment/YARN</td>\n",
       "      <td>1</td>\n",
       "      <td>0 days 02:51:06</td>\n",
       "      <td>1</td>\n",
       "    </tr>\n",
       "    <tr>\n",
       "      <th>2014-06-10 22:31:31+00:00</th>\n",
       "      <td>component=Runtime/Network</td>\n",
       "      <td>5</td>\n",
       "      <td>6 days 23:47:47</td>\n",
       "      <td>1</td>\n",
       "    </tr>\n",
       "    <tr>\n",
       "      <th>2014-06-11 10:16:58+00:00</th>\n",
       "      <td>component=&lt;none&gt;</td>\n",
       "      <td>6</td>\n",
       "      <td>6 days 12:02:20</td>\n",
       "      <td>1</td>\n",
       "    </tr>\n",
       "    <tr>\n",
       "      <th>2014-06-12 09:00:26+00:00</th>\n",
       "      <td>component=&lt;none&gt;</td>\n",
       "      <td>8</td>\n",
       "      <td>1 days 06:37:45</td>\n",
       "      <td>1</td>\n",
       "    </tr>\n",
       "    <tr>\n",
       "      <th>2014-06-12 14:23:29+00:00</th>\n",
       "      <td>component=&lt;none&gt;</td>\n",
       "      <td>11</td>\n",
       "      <td>0 days 07:03:46</td>\n",
       "      <td>1</td>\n",
       "    </tr>\n",
       "    <tr>\n",
       "      <th>...</th>\n",
       "      <td>...</td>\n",
       "      <td>...</td>\n",
       "      <td>...</td>\n",
       "      <td>...</td>\n",
       "    </tr>\n",
       "    <tr>\n",
       "      <th>2022-06-01 08:12:33+00:00</th>\n",
       "      <td>component=TableSQL/Planner</td>\n",
       "      <td>19860</td>\n",
       "      <td>NaT</td>\n",
       "      <td>1</td>\n",
       "    </tr>\n",
       "    <tr>\n",
       "      <th>2022-06-01 10:34:44+00:00</th>\n",
       "      <td>component=Deployment/YARN</td>\n",
       "      <td>19863</td>\n",
       "      <td>NaT</td>\n",
       "      <td>1</td>\n",
       "    </tr>\n",
       "    <tr>\n",
       "      <th>2022-06-01 12:47:53+00:00</th>\n",
       "      <td>component=Runtime/Checkpointing</td>\n",
       "      <td>19864</td>\n",
       "      <td>NaT</td>\n",
       "      <td>1</td>\n",
       "    </tr>\n",
       "    <tr>\n",
       "      <th>2022-06-02 02:51:27+00:00</th>\n",
       "      <td>component=TableSQL/Planner</td>\n",
       "      <td>19866</td>\n",
       "      <td>NaT</td>\n",
       "      <td>1</td>\n",
       "    </tr>\n",
       "    <tr>\n",
       "      <th>2022-06-02 10:06:36+00:00</th>\n",
       "      <td>component=TableSQL/API</td>\n",
       "      <td>19868</td>\n",
       "      <td>NaT</td>\n",
       "      <td>1</td>\n",
       "    </tr>\n",
       "  </tbody>\n",
       "</table>\n",
       "<p>27913 rows × 4 columns</p>\n",
       "</div>"
      ],
      "text/plain": [
       "                                                      name  number  \\\n",
       "createdAt                                                            \n",
       "2014-06-10 16:51:08+00:00        component=Deployment/YARN       1   \n",
       "2014-06-10 22:31:31+00:00        component=Runtime/Network       5   \n",
       "2014-06-11 10:16:58+00:00                 component=<none>       6   \n",
       "2014-06-12 09:00:26+00:00                 component=<none>       8   \n",
       "2014-06-12 14:23:29+00:00                 component=<none>      11   \n",
       "...                                                    ...     ...   \n",
       "2022-06-01 08:12:33+00:00       component=TableSQL/Planner   19860   \n",
       "2022-06-01 10:34:44+00:00        component=Deployment/YARN   19863   \n",
       "2022-06-01 12:47:53+00:00  component=Runtime/Checkpointing   19864   \n",
       "2022-06-02 02:51:27+00:00       component=TableSQL/Planner   19866   \n",
       "2022-06-02 10:06:36+00:00           component=TableSQL/API   19868   \n",
       "\n",
       "                                 lifetime  _count  \n",
       "createdAt                                          \n",
       "2014-06-10 16:51:08+00:00 0 days 02:51:06       1  \n",
       "2014-06-10 22:31:31+00:00 6 days 23:47:47       1  \n",
       "2014-06-11 10:16:58+00:00 6 days 12:02:20       1  \n",
       "2014-06-12 09:00:26+00:00 1 days 06:37:45       1  \n",
       "2014-06-12 14:23:29+00:00 0 days 07:03:46       1  \n",
       "...                                   ...     ...  \n",
       "2022-06-01 08:12:33+00:00             NaT       1  \n",
       "2022-06-01 10:34:44+00:00             NaT       1  \n",
       "2022-06-01 12:47:53+00:00             NaT       1  \n",
       "2022-06-02 02:51:27+00:00             NaT       1  \n",
       "2022-06-02 10:06:36+00:00             NaT       1  \n",
       "\n",
       "[27913 rows x 4 columns]"
      ]
     },
     "execution_count": 5,
     "metadata": {},
     "output_type": "execute_result"
    }
   ],
   "source": [
    "data['_count'] = 1\n",
    "data = data[['name', 'number', 'lifetime', '_count']]\n",
    "data"
   ]
  },
  {
   "cell_type": "code",
   "execution_count": 6,
   "id": "54b7143c",
   "metadata": {},
   "outputs": [
    {
     "name": "stdout",
     "output_type": "stream",
     "text": [
      "post-ui-rework\n",
      "review=description?\n",
      "review=consensus?\n",
      "review=approved ✅\n",
      "review=architecture?\n",
      "review=quality?\n",
      "dependencies\n",
      "ruby\n",
      "java\n",
      "post-1.10-scheduler-feedback\n",
      "javascript\n"
     ]
    }
   ],
   "source": [
    "for el in data['name'].unique():\n",
    "    if not el.startswith('component='):\n",
    "        print(el)"
   ]
  },
  {
   "cell_type": "code",
   "execution_count": 7,
   "id": "818aaf21",
   "metadata": {},
   "outputs": [],
   "source": [
    "key_none = '<none>'  # A component name used by the api\n",
    "key_undefined = '<undefined>'  # introduced by us\n",
    "data['component'] = key_undefined\n",
    "data['other'] = key_undefined\n",
    "data.loc[~data['name'].str.startswith('component='), 'other'] = data.loc[~data['name'].str.startswith('component='), 'name'] \n",
    "data.loc[data['name'].str.startswith('component='), 'component'] = data.loc[data['name'].str.startswith('component='), 'name'].str.replace('component=', '') "
   ]
  },
  {
   "cell_type": "code",
   "execution_count": 8,
   "id": "2827df44",
   "metadata": {},
   "outputs": [],
   "source": [
    "data['componentPrefix'] = key_undefined\n",
    "data['componentSuffix'] = key_undefined\n",
    "condition = ~data['component'].isna() & data['component'].str.contains('/')\n",
    "#other = ~data['component'].isna() & ~data['component'].str.contains('/')\n",
    "\n",
    "data[['componentPrefix', 'componentSuffix']] = data['component'].str.split('/', expand=True, n=1) \n",
    "#data.loc[other, 'componentPrefix'] = data.loc[other, 'component']"
   ]
  },
  {
   "cell_type": "code",
   "execution_count": 9,
   "id": "ce4c0b04",
   "metadata": {},
   "outputs": [
    {
     "data": {
      "text/html": [
       "<div>\n",
       "<style scoped>\n",
       "    .dataframe tbody tr th:only-of-type {\n",
       "        vertical-align: middle;\n",
       "    }\n",
       "\n",
       "    .dataframe tbody tr th {\n",
       "        vertical-align: top;\n",
       "    }\n",
       "\n",
       "    .dataframe thead th {\n",
       "        text-align: right;\n",
       "    }\n",
       "</style>\n",
       "<table border=\"1\" class=\"dataframe\">\n",
       "  <thead>\n",
       "    <tr style=\"text-align: right;\">\n",
       "      <th></th>\n",
       "      <th>0</th>\n",
       "      <th>1</th>\n",
       "    </tr>\n",
       "    <tr>\n",
       "      <th>createdAt</th>\n",
       "      <th></th>\n",
       "      <th></th>\n",
       "    </tr>\n",
       "  </thead>\n",
       "  <tbody>\n",
       "    <tr>\n",
       "      <th>2014-06-10 16:51:08+00:00</th>\n",
       "      <td>Deployment</td>\n",
       "      <td>YARN</td>\n",
       "    </tr>\n",
       "    <tr>\n",
       "      <th>2014-06-10 22:31:31+00:00</th>\n",
       "      <td>Runtime</td>\n",
       "      <td>Network</td>\n",
       "    </tr>\n",
       "    <tr>\n",
       "      <th>2014-06-15 18:45:37+00:00</th>\n",
       "      <td>API</td>\n",
       "      <td>Scala</td>\n",
       "    </tr>\n",
       "    <tr>\n",
       "      <th>2014-06-24 13:09:41+00:00</th>\n",
       "      <td>Runtime</td>\n",
       "      <td>Coordination</td>\n",
       "    </tr>\n",
       "    <tr>\n",
       "      <th>2014-06-24 21:30:16+00:00</th>\n",
       "      <td>Runtime</td>\n",
       "      <td>Task</td>\n",
       "    </tr>\n",
       "    <tr>\n",
       "      <th>...</th>\n",
       "      <td>...</td>\n",
       "      <td>...</td>\n",
       "    </tr>\n",
       "    <tr>\n",
       "      <th>2022-06-01 08:12:33+00:00</th>\n",
       "      <td>TableSQL</td>\n",
       "      <td>Planner</td>\n",
       "    </tr>\n",
       "    <tr>\n",
       "      <th>2022-06-01 10:34:44+00:00</th>\n",
       "      <td>Deployment</td>\n",
       "      <td>YARN</td>\n",
       "    </tr>\n",
       "    <tr>\n",
       "      <th>2022-06-01 12:47:53+00:00</th>\n",
       "      <td>Runtime</td>\n",
       "      <td>Checkpointing</td>\n",
       "    </tr>\n",
       "    <tr>\n",
       "      <th>2022-06-02 02:51:27+00:00</th>\n",
       "      <td>TableSQL</td>\n",
       "      <td>Planner</td>\n",
       "    </tr>\n",
       "    <tr>\n",
       "      <th>2022-06-02 10:06:36+00:00</th>\n",
       "      <td>TableSQL</td>\n",
       "      <td>API</td>\n",
       "    </tr>\n",
       "  </tbody>\n",
       "</table>\n",
       "<p>13702 rows × 2 columns</p>\n",
       "</div>"
      ],
      "text/plain": [
       "                                    0              1\n",
       "createdAt                                           \n",
       "2014-06-10 16:51:08+00:00  Deployment           YARN\n",
       "2014-06-10 22:31:31+00:00     Runtime        Network\n",
       "2014-06-15 18:45:37+00:00         API          Scala\n",
       "2014-06-24 13:09:41+00:00     Runtime   Coordination\n",
       "2014-06-24 21:30:16+00:00     Runtime           Task\n",
       "...                               ...            ...\n",
       "2022-06-01 08:12:33+00:00    TableSQL        Planner\n",
       "2022-06-01 10:34:44+00:00  Deployment           YARN\n",
       "2022-06-01 12:47:53+00:00     Runtime  Checkpointing\n",
       "2022-06-02 02:51:27+00:00    TableSQL        Planner\n",
       "2022-06-02 10:06:36+00:00    TableSQL            API\n",
       "\n",
       "[13702 rows x 2 columns]"
      ]
     },
     "execution_count": 9,
     "metadata": {},
     "output_type": "execute_result"
    }
   ],
   "source": [
    "data.loc[condition, 'component'].str.split('/', expand=True, n=1)"
   ]
  },
  {
   "cell_type": "code",
   "execution_count": 10,
   "id": "061574b8",
   "metadata": {},
   "outputs": [
    {
     "data": {
      "text/plain": [
       "Connectors             15\n",
       "Runtime                10\n",
       "API                     7\n",
       "TableSQL                6\n",
       "Deployment              4\n",
       "BuildSystem             4\n",
       "Library                 3\n",
       "Documentation           3\n",
       "Benchmarks              1\n",
       "Client                  1\n",
       "Formats                 1\n",
       "chinese-translation     1\n",
       "fs                      1\n",
       "TestInfrastructure      1\n",
       "<undefined>             1\n",
       "TableStore              1\n",
       "ReleaseSystem           1\n",
       "FileSystems             1\n",
       "Quickstarts             1\n",
       "Travis                  1\n",
       "flink-docker            1\n",
       "CommandLineClient       1\n",
       "LegacyComponents        1\n",
       "ScalaShell              1\n",
       "Tests                   1\n",
       "flink-contrib           1\n",
       "ProjectWebsite          1\n",
       "Examples                1\n",
       "<none>                  1\n",
       "kafka                   1\n",
       "Name: componentPrefix, dtype: int64"
      ]
     },
     "execution_count": 10,
     "metadata": {},
     "output_type": "execute_result"
    }
   ],
   "source": [
    "data.query('componentPrefix != \"\"')[['component', 'componentPrefix']].drop_duplicates()['componentPrefix'].value_counts()"
   ]
  },
  {
   "cell_type": "code",
   "execution_count": 11,
   "id": "41f10307",
   "metadata": {},
   "outputs": [],
   "source": [
    "top_components = data['component'].dropna().value_counts()"
   ]
  },
  {
   "cell_type": "code",
   "execution_count": 12,
   "id": "feb2f4bd",
   "metadata": {},
   "outputs": [
    {
     "data": {
      "text/plain": [
       "<undefined>              0.309712\n",
       "Runtime/Coordination     0.066277\n",
       "TableSQL/API             0.056784\n",
       "Documentation            0.052807\n",
       "Tests                    0.042704\n",
       "<none>                   0.040984\n",
       "TableSQL/Planner         0.030917\n",
       "API/Python               0.025759\n",
       "Runtime/StateBackends    0.023251\n",
       "API/DataStream           0.022606\n",
       "Name: component, dtype: float64"
      ]
     },
     "execution_count": 12,
     "metadata": {},
     "output_type": "execute_result"
    }
   ],
   "source": [
    "(top_components / top_components.sum()).head(10)"
   ]
  },
  {
   "cell_type": "code",
   "execution_count": 13,
   "id": "bcd4d836",
   "metadata": {},
   "outputs": [
    {
     "name": "stdout",
     "output_type": "stream",
     "text": [
      "<undefined>                            8645\n",
      "Runtime/Coordination                   1850\n",
      "TableSQL/API                           1585\n",
      "Documentation                          1474\n",
      "Tests                                  1192\n",
      "<none>                                 1144\n",
      "TableSQL/Planner                        863\n",
      "API/Python                              719\n",
      "Runtime/StateBackends                   649\n",
      "API/DataStream                          631\n",
      "BuildSystem                             549\n",
      "Runtime/Task                            458\n",
      "Connectors/Kafka                        447\n",
      "Runtime/Network                         445\n",
      "Runtime/Checkpointing                   413\n",
      "Runtime/Metrics                         396\n",
      "Connectors/Hive                         394\n",
      "Deployment/YARN                         376\n",
      "Runtime/WebFrontend                     366\n",
      "Runtime/REST                            284\n",
      "chinese-translation                     263\n",
      "TableSQL/Runtime                        251\n",
      "Connectors/Common                       246\n",
      "TableSQL/Client                         235\n",
      "TableSQL/Ecosystem                      227\n",
      "Connectors/FileSystem                   212\n",
      "Formats                                 209\n",
      "Runtime/Configuration                   193\n",
      "Deployment/Kubernetes                   190\n",
      "API/DataSet                             184\n",
      "Connectors/Kinesis                      184\n",
      "CommandLineClient                       182\n",
      "Library/GraphProcessing(Gelly)          180\n",
      "Library/CEP                             144\n",
      "Library/MachineLearning                 144\n",
      "API/TypeSerializationSystem             140\n",
      "Connectors/JDBC                         139\n",
      "TestInfrastructure                      123\n",
      "Connectors/ElasticSearch                121\n",
      "API/Scala                               117\n",
      "FileSystems                             113\n",
      "Client/JobSubmission                    105\n",
      "API/Core                                 97\n",
      "Deployment/Mesos                         86\n",
      "Deployment/Scripts                       83\n",
      "Examples                                 82\n",
      "TableSQL/LegacyPlanner                   72\n",
      "BuildSystem/AzurePipelines               69\n",
      "Connectors/HBase                         69\n",
      "Runtime/QueryableState                   67\n",
      "Connectors/Cassandra                     53\n",
      "ScalaShell                               45\n",
      "Travis                                   41\n",
      "Connectors/Pulsar                        39\n",
      "ReleaseSystem                            29\n",
      "Quickstarts                              28\n",
      "API/StateProcessor                       27\n",
      "flink-contrib                            26\n",
      "flink-docker                             24\n",
      "Benchmarks                               23\n",
      "BuildSystem/CI                           22\n",
      "Connectors/HadoopCompatibility           20\n",
      "LegacyComponents/StormCompatibility      20\n",
      "Connectors/GoogleCloudPubSub             19\n",
      "Connectors/RabbitMQ                      19\n",
      "Documentation/Training                   19\n",
      "ProjectWebsite                           16\n",
      "Connectors/ORC                           15\n",
      "BuildSystem/Shaded                       12\n",
      "Connectors/Nifi                           4\n",
      "Documentation/Training/Exercises          2\n",
      "fs                                        1\n",
      "TableStore                                1\n",
      "kafka                                     1\n",
      "Name: component, dtype: int64\n"
     ]
    }
   ],
   "source": [
    "with pd.option_context(\"display.max_rows\", top_components.shape[0]):\n",
    "    print(top_components)"
   ]
  },
  {
   "cell_type": "code",
   "execution_count": 14,
   "id": "ad5ef245",
   "metadata": {},
   "outputs": [
    {
     "data": {
      "text/plain": [
       "[Text(0.5, 0, 'created time'), Text(0, 0.5, 'count')]"
      ]
     },
     "execution_count": 14,
     "metadata": {},
     "output_type": "execute_result"
    },
    {
     "data": {
      "image/png": "[encoded data removed]",
      "text/plain": [
       "<Figure size 720x720 with 1 Axes>"
      ]
     },
     "metadata": {
      "needs_background": "light"
     },
     "output_type": "display_data"
    }
   ],
   "source": [
    "f, ax = plt.subplots(figsize=(10, 10))\n",
    "for component in top_components.head(6).index:\n",
    "    data.loc[data['component'] == component, '_count'].cumsum().plot(ax=ax, label=component, lw=2)\n",
    "ax.legend()\n",
    "f.suptitle('Total PRs per component')\n",
    "ax.set(xlabel='created time', ylabel='count')"
   ]
  }
 ],
 "metadata": {
  "kernelspec": {
   "display_name": "Python 3 (ipykernel)",
   "language": "python",
   "name": "python3"
  },
  "language_info": {
   "codemirror_mode": {
    "name": "ipython",
    "version": 3
   },
   "file_extension": ".py",
   "mimetype": "text/x-python",
   "name": "python",
   "nbconvert_exporter": "python",
   "pygments_lexer": "ipython3",
   "version": "3.9.7"
  }
 },
 "nbformat": 4,
 "nbformat_minor": 5
}
