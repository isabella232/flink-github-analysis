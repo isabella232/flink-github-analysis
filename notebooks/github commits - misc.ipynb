{
 "cells": [
  {
   "cell_type": "code",
   "execution_count": 1,
   "id": "d43f34c5",
   "metadata": {},
   "outputs": [],
   "source": [
    "import pandas as pd\n",
    "from matplotlib import pyplot as plt\n",
    "from matplotlib import ticker\n",
    "import re"
   ]
  },
  {
   "cell_type": "code",
   "execution_count": 2,
   "id": "8fc7e675",
   "metadata": {},
   "outputs": [],
   "source": [
    "import tools"
   ]
  },
  {
   "cell_type": "code",
   "execution_count": 3,
   "id": "941d4c44",
   "metadata": {},
   "outputs": [],
   "source": [
    "data = pd.read_json(\"data/flink/commits_20220602-16h05m47s_apache_flink_master_commits.txt\", lines=True)\n",
    "tools.initialize_datetime(data)\n",
    "data = data.sort_values(by='authoredDate')"
   ]
  },
  {
   "cell_type": "markdown",
   "id": "f3be54d8",
   "metadata": {},
   "source": [
    "## Data Quality\n",
    "\n",
    "Do contributors use multiple logins?"
   ]
  },
  {
   "cell_type": "code",
   "execution_count": 4,
   "id": "1c1c9956",
   "metadata": {},
   "outputs": [],
   "source": [
    "contributor = data[['authorName', 'authorLogin', 'authorEmail', 'authorDatabaseId']].drop_duplicates()"
   ]
  },
  {
   "cell_type": "code",
   "execution_count": 5,
   "id": "06e48a18",
   "metadata": {},
   "outputs": [],
   "source": [
    "contributor_count_by_id = contributor.groupby('authorDatabaseId').count().sort_values('authorLogin')"
   ]
  },
  {
   "cell_type": "code",
   "execution_count": 6,
   "id": "c5924241",
   "metadata": {},
   "outputs": [
    {
     "name": "stdout",
     "output_type": "stream",
     "text": [
      "Column authorName has 0 duplicate entries and 191 fields that have no entry for a single database id\n",
      "Column authorLogin has 0 duplicate entries and 0 fields that have no entry for a single database id\n",
      "Column authorEmail has 0 duplicate entries and 0 fields that have no entry for a single database id\n"
     ]
    }
   ],
   "source": [
    "for col in ['authorName', 'authorLogin', 'authorEmail']:\n",
    "    n_duplicates = contributor_count_by_id.loc[contributor_count_by_id[col] > 1, col].shape[0]\n",
    "    n_zero = contributor_count_by_id.loc[contributor_count_by_id[col] == 0, col].shape[0]\n",
    "    print(f\"Column {col} has {n_duplicates} duplicate entries and {n_zero} fields that have no entry for a single database id\")\n"
   ]
  },
  {
   "cell_type": "markdown",
   "id": "1d7dab2b",
   "metadata": {},
   "source": [
    "The database id to login and emails relationship seems to be unique.\n",
    "\n",
    "I am a bit surprised here, as the authorLogin can be changed by the over time."
   ]
  },
  {
   "cell_type": "markdown",
   "id": "314de66c",
   "metadata": {},
   "source": [
    "## Message"
   ]
  },
  {
   "cell_type": "code",
   "execution_count": 7,
   "id": "0fcb6696",
   "metadata": {},
   "outputs": [
    {
     "name": "stdout",
     "output_type": "stream",
     "text": [
      " 60.91 % of all commits start with the [FLINK-XXX] tag\n"
     ]
    }
   ],
   "source": [
    "starting_with_flink_prefix = data['message'].str.startswith('[FLINK-').value_counts()\n",
    "starting_with_flink_prefix_perc = starting_with_flink_prefix / starting_with_flink_prefix.sum() * 100\n",
    "\n",
    "print(f\"{starting_with_flink_prefix_perc.loc[True]: 6.2f} % of all commits start with the [FLINK-XXX] tag\")"
   ]
  },
  {
   "cell_type": "markdown",
   "id": "55b232d0",
   "metadata": {},
   "source": [
    "## Mail"
   ]
  },
  {
   "cell_type": "code",
   "execution_count": 8,
   "id": "f9f62a69",
   "metadata": {},
   "outputs": [
    {
     "data": {
      "text/plain": [
       "brynski.pl            1\n",
       "dtstack.com           1\n",
       "inspur.com            2\n",
       "pm.me                 2\n",
       "sina.com              2\n",
       "yandex.ru             2\n",
       "corp.netease.com      2\n",
       "live.cn               2\n",
       "googlemail.com        2\n",
       "microsoft.com         2\n",
       "tu-berlin.de          2\n",
       "intel.com             3\n",
       "hotmail.com           5\n",
       "126.com               7\n",
       "foxmail.com           8\n",
       "outlook.com           9\n",
       "qq.com               26\n",
       "163.com              33\n",
       "apache.org           41\n",
       "gmail.com           237\n",
       "Name: authorEmail, dtype: int64"
      ]
     },
     "execution_count": 8,
     "metadata": {},
     "output_type": "execute_result"
    }
   ],
   "source": [
    "data['authorEmail'].drop_duplicates().str.replace(re.compile(r'.*[\\@]'), '').value_counts().sort_values().tail(20)"
   ]
  }
 ],
 "metadata": {
  "kernelspec": {
   "display_name": "Python 3 (ipykernel)",
   "language": "python",
   "name": "python3"
  },
  "language_info": {
   "codemirror_mode": {
    "name": "ipython",
    "version": 3
   },
   "file_extension": ".py",
   "mimetype": "text/x-python",
   "name": "python",
   "nbconvert_exporter": "python",
   "pygments_lexer": "ipython3",
   "version": "3.9.7"
  }
 },
 "nbformat": 4,
 "nbformat_minor": 5
}
